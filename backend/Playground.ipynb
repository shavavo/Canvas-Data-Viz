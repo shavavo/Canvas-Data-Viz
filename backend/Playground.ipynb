{
 "cells": [
  {
   "cell_type": "code",
   "execution_count": 1,
   "metadata": {},
   "outputs": [],
   "source": [
    "from canvasapi import Canvas\n",
    "import canvasCredentials\n",
    "canvas = Canvas(canvasCredentials.API_URL, canvasCredentials.API_KEY)\n"
   ]
  },
  {
   "cell_type": "code",
   "execution_count": 3,
   "metadata": {},
   "outputs": [],
   "source": [
    "course = canvas.get_course(801)"
   ]
  },
  {
   "cell_type": "code",
   "execution_count": 19,
   "metadata": {},
   "outputs": [
    {
     "name": "stdout",
     "output_type": "stream",
     "text": [
      "{'id': 110161, 'user_id': 6491, 'course_id': 801, 'type': 'StudentEnrollment', 'created_at': '2018-07-20T16:59:01Z', 'updated_at': '2018-09-06T22:56:56Z', 'associated_user_id': None, 'start_at': None, 'end_at': None, 'course_section_id': 2423, 'root_account_id': 1, 'limit_privileges_to_course_section': False, 'enrollment_state': 'active', 'role': 'StudentEnrollment', 'role_id': 3, 'last_activity_at': '2018-09-17T21:35:52Z', 'last_attended_at': None, 'total_activity_time': 7994, 'grades': {'html_url': 'https://fuqua.instructure.com/courses/801/grades/6491', 'current_score': 100.0, 'current_grade': None, 'final_score': 18.9, 'final_grade': None, 'unposted_current_score': 100.0, 'unposted_current_grade': None, 'unposted_final_score': 18.9, 'unposted_final_grade': None}, 'sis_account_id': None, 'sis_course_id': None, 'course_integration_id': None, 'sis_section_id': 'SIS_10778_1660_AUTO', 'section_integration_id': None, 'sis_user_id': None, 'html_url': 'https://fuqua.instructure.com/courses/801/users/6491', 'user': {'id': 6491, 'name': 'Elly Im', 'sortable_name': 'Im, Elly', 'short_name': 'Elly Im', 'sis_user_id': None, 'integration_id': '1489669589361662', 'login_id': '1489669589361662'}}\n"
     ]
    }
   ],
   "source": [
    "test= course.get_enrollments()\n",
    "for x in test:\n",
    "    if(x.user['name'] == 'Elly Im'):\n",
    "        print(x.attributes)"
   ]
  },
  {
   "cell_type": "code",
   "execution_count": 20,
   "metadata": {},
   "outputs": [],
   "source": [
    "test = course.get_section(2423)"
   ]
  },
  {
   "cell_type": "code",
   "execution_count": 21,
   "metadata": {},
   "outputs": [
    {
     "data": {
      "text/plain": [
       "{'id': 2423,\n",
       " 'course_id': 801,\n",
       " 'name': 'MANAGEMT 738.103',\n",
       " 'start_at': None,\n",
       " 'end_at': None,\n",
       " 'restrict_enrollments_to_section_dates': False,\n",
       " 'nonxlist_course_id': None,\n",
       " 'sis_section_id': 'SIS_10778_1660_AUTO',\n",
       " 'sis_course_id': None,\n",
       " 'integration_id': None}"
      ]
     },
     "execution_count": 21,
     "metadata": {},
     "output_type": "execute_result"
    }
   ],
   "source": [
    "test.attributes"
   ]
  },
  {
   "cell_type": "code",
   "execution_count": 7,
   "metadata": {},
   "outputs": [],
   "source": [
    "sections = course.get_sections()"
   ]
  },
  {
   "cell_type": "code",
   "execution_count": 22,
   "metadata": {},
   "outputs": [],
   "source": [
    "enrollments = sections[2].get_enrollments()"
   ]
  },
  {
   "cell_type": "code",
   "execution_count": 23,
   "metadata": {},
   "outputs": [
    {
     "name": "stdout",
     "output_type": "stream",
     "text": [
      "StudentEnrollment Ritu Agrawal\n",
      "StudentEnrollment Aya Ahmed\n",
      "StudentEnrollment Rosanna Arias\n",
      "StudentEnrollment Sebastian Arrese\n",
      "StudentEnrollment Nikita Avdiushko\n",
      "StudentEnrollment Maria Elena Becerra\n",
      "StudentEnrollment Michael Belick\n",
      "StudentEnrollment Astha Bhatnagar\n",
      "StudentEnrollment Adhish Bhobe\n",
      "StudentEnrollment Stephen Brandewie\n",
      "StudentEnrollment Ashley Brown\n",
      "StudentEnrollment Octavio Colmenares\n",
      "StudentEnrollment Oriana Corrales\n",
      "StudentEnrollment Sofia Dam\n",
      "StudentEnrollment Christina Decker\n",
      "StudentEnrollment Siya Dhawan\n",
      "StudentEnrollment Carol Dias\n",
      "StudentEnrollment Colin Emerson\n",
      "StudentEnrollment Zaid Fayyad\n",
      "StudentEnrollment Andrew Fredrickson\n",
      "StudentEnrollment Ekaterina Galieva\n",
      "StudentEnrollment Ruben Galvan\n",
      "StudentEnrollment Julio Galvez\n",
      "StudentEnrollment Nikhil Gola\n",
      "StudentEnrollment Wonsik(Aiden) Han\n",
      "StudentEnrollment John Harb\n",
      "StudentEnrollment Will Hoelle\n",
      "StudentEnrollment Janette Hwang\n",
      "StudentEnrollment Elly Im\n",
      "StudentEnrollment Nikita Ivakhnenko\n",
      "StudentEnrollment Brad Kabak\n",
      "StudentEnrollment Aditi Kadmawala\n",
      "StudentEnrollment Keat Kok\n",
      "StudentEnrollment Elizabeth Kristuli\n",
      "StudentEnrollment Elise Le\n",
      "StudentEnrollment Minh Le\n",
      "StudentEnrollment Liz Lindsey\n",
      "StudentEnrollment Edward Liu\n",
      "StudentEnrollment Zhongjian Liu\n",
      "StudentEnrollment Jaime Llaguno\n",
      "StudentEnrollment Zhihong Lu\n",
      "StudentEnrollment Sam Marks\n",
      "StudentEnrollment Matt Martinez\n",
      "StudentEnrollment Marlyse Mazzeo\n",
      "StudentEnrollment Yuki Nakanishi\n",
      "StudentEnrollment Christopher Nguyen\n",
      "StudentEnrollment Steve Oak\n",
      "StudentEnrollment James Padget\n",
      "StudentEnrollment Ragi Ragavan\n",
      "StudentEnrollment Sachet Ray\n",
      "StudentEnrollment Carlos Rodriguez\n",
      "StudentEnrollment Mavis Rong\n",
      "StudentEnrollment Fernando Saavedra\n",
      "StudentEnrollment Ryan Salisbury\n",
      "StudentEnrollment Cody Schuler\n",
      "StudentEnrollment Harshit Sharma\n",
      "StudentEnrollment Justin Smith\n",
      "StudentEnrollment Nayana Srivastava\n",
      "StudentEnrollment Yuri Streciwik\n",
      "StudentEnrollment Joanna Sun\n",
      "StudentEnrollment Grace Tong\n",
      "StudentEnrollment Kyle Van de Ven\n",
      "StudentEnrollment Ni Vasuviwat\n",
      "StudentEnrollment Sergio Vital\n",
      "StudentEnrollment Ziming Wang\n",
      "StudentEnrollment Danny Wu\n",
      "StudentEnrollment Marc Yan\n",
      "StudentEnrollment Marco Zava\n",
      "StudentEnrollment Karen Zhang\n",
      "StudentViewEnrollment Test Student\n",
      "TaEnrollment Anyi Ma\n",
      "TaEnrollment Sam Yogi\n",
      "TeacherEnrollment Jonathon Cummings\n"
     ]
    }
   ],
   "source": [
    "for enrollment in enrollments:\n",
    "    print(enrollment.type, enrollment.user['name'])"
   ]
  },
  {
   "cell_type": "code",
   "execution_count": null,
   "metadata": {},
   "outputs": [],
   "source": [
    "def update():\n",
    "    print(\"Yes\")"
   ]
  },
  {
   "cell_type": "code",
   "execution_count": null,
   "metadata": {},
   "outputs": [],
   "source": [
    "from apscheduler.schedulers.blocking import BlockingScheduler\n",
    "scheduler = BlockingScheduler()\n",
    "scheduler.add_job(update, 'cron', day_of_week=\"mon,thu\", hour=\"9-18\", minute=\"*\", second=\"*\")"
   ]
  },
  {
   "cell_type": "code",
   "execution_count": null,
   "metadata": {},
   "outputs": [
    {
     "name": "stdout",
     "output_type": "stream",
     "text": [
      "Yes\n",
      "Yes\n",
      "Yes\n",
      "Yes\n",
      "Yes\n",
      "Yes\n",
      "Yes\n",
      "Yes\n",
      "Yes\n",
      "Yes\n",
      "Yes\n",
      "Yes\n",
      "Yes\n",
      "Yes\n",
      "Yes\n",
      "Yes\n",
      "Yes\n",
      "Yes\n",
      "Yes\n",
      "Yes\n",
      "Yes\n"
     ]
    }
   ],
   "source": [
    "scheduler.start()"
   ]
  },
  {
   "cell_type": "code",
   "execution_count": null,
   "metadata": {},
   "outputs": [],
   "source": []
  }
 ],
 "metadata": {
  "kernelspec": {
   "display_name": "Python 3",
   "language": "python",
   "name": "python3"
  },
  "language_info": {
   "codemirror_mode": {
    "name": "ipython",
    "version": 3
   },
   "file_extension": ".py",
   "mimetype": "text/x-python",
   "name": "python",
   "nbconvert_exporter": "python",
   "pygments_lexer": "ipython3",
   "version": "3.7.0"
  }
 },
 "nbformat": 4,
 "nbformat_minor": 2
}
